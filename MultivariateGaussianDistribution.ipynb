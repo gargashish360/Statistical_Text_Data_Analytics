{
 "cells": [
  {
   "cell_type": "code",
   "execution_count": 1,
   "metadata": {},
   "outputs": [],
   "source": [
    "# Calculation of Multivariate gaussian distrubution at location x1,x2 and x3"
   ]
  },
  {
   "cell_type": "code",
   "execution_count": 167,
   "metadata": {},
   "outputs": [],
   "source": [
    "import numpy as np\n"
   ]
  },
  {
   "cell_type": "code",
   "execution_count": 168,
   "metadata": {},
   "outputs": [],
   "source": [
    "def multivariate_gaussian(x, mu, sigma):\n",
    "    k = len(mu)\n",
    "    uu = mu.reshape(k,1)\n",
    "    xx = x.reshape(k, 1)\n",
    "    t1 = (2*np.pi) ** k\n",
    "    t2 = np.linalg.det(sigma)\n",
    "    t3 = 1.0 / np.sqrt(t1*t2)\n",
    "    t4 = (xx-uu).T\n",
    "    t5 = np.linalg.inv(sigma)\n",
    "    t6 = (xx - uu)\n",
    "    t7 = -0.5 * (np.dot(t4,t5).dot(t6))\n",
    "    result = t3 * np.exp(t7)\n",
    "    return result[0][0]"
   ]
  },
  {
   "cell_type": "code",
   "execution_count": 169,
   "metadata": {},
   "outputs": [],
   "source": [
    "mu = np.array([1, 3, 5])\n",
    "sigma = np.array([[4, 2, 1], [2 , 5, 2], [1, 2, 3]])\n",
    "x1 = np.array([2, 2, 2])\n",
    "x2 = np.array([1, 4, 3])\n",
    "x3 = np.array([1, 1, 5])"
   ]
  },
  {
   "cell_type": "code",
   "execution_count": 170,
   "metadata": {},
   "outputs": [],
   "source": [
    "l1 = multivariate_gaussian(x1, mu, sigma)"
   ]
  },
  {
   "cell_type": "code",
   "execution_count": 171,
   "metadata": {},
   "outputs": [],
   "source": [
    "l2 = multivariate_gaussian(x2, mu, sigma)"
   ]
  },
  {
   "cell_type": "code",
   "execution_count": 172,
   "metadata": {},
   "outputs": [],
   "source": [
    "l3 = multivariate_gaussian(x3, mu, sigma)"
   ]
  },
  {
   "cell_type": "code",
   "execution_count": 173,
   "metadata": {},
   "outputs": [
    {
     "data": {
      "text/plain": [
       "0.0013717986904768756"
      ]
     },
     "execution_count": 173,
     "metadata": {},
     "output_type": "execute_result"
    }
   ],
   "source": [
    "l1"
   ]
  },
  {
   "cell_type": "code",
   "execution_count": 174,
   "metadata": {},
   "outputs": [
    {
     "data": {
      "text/plain": [
       "0.0026090337298477575"
      ]
     },
     "execution_count": 174,
     "metadata": {},
     "output_type": "execute_result"
    }
   ],
   "source": [
    "l2"
   ]
  },
  {
   "cell_type": "code",
   "execution_count": 175,
   "metadata": {},
   "outputs": [
    {
     "data": {
      "text/plain": [
       "0.0057241508772283576"
      ]
     },
     "execution_count": 175,
     "metadata": {},
     "output_type": "execute_result"
    }
   ],
   "source": [
    "l3"
   ]
  }
 ],
 "metadata": {
  "kernelspec": {
   "display_name": "Python 3",
   "language": "python",
   "name": "python3"
  },
  "language_info": {
   "codemirror_mode": {
    "name": "ipython",
    "version": 3
   },
   "file_extension": ".py",
   "mimetype": "text/x-python",
   "name": "python",
   "nbconvert_exporter": "python",
   "pygments_lexer": "ipython3",
   "version": "3.8.3"
  }
 },
 "nbformat": 4,
 "nbformat_minor": 4
}
