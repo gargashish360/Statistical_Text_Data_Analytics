{
 "cells": [
  {
   "cell_type": "code",
   "execution_count": 1,
   "metadata": {},
   "outputs": [],
   "source": [
    "import scipy\n",
    "import scipy.sparse\n",
    "import numpy as np\n",
    "from scipy import sparse"
   ]
  },
  {
   "cell_type": "code",
   "execution_count": 2,
   "metadata": {},
   "outputs": [],
   "source": [
    "d1 = \"the robot is insightful but you are strong and i may answer and the wise fox is insightful and you are insightful and i am insightful but i will explain the insightful bird\"\n",
    "d2 = \"the bird is insightful\"\n",
    "d3 = \"when will they explain the friendly insightful strong insightful bird and is the bird strong and is a strong robot insightful\"\n",
    "d4 = \"a cat is strong but you are cautious and i may help but a fox is insightful but are they strong and when may you answer\""
   ]
  },
  {
   "cell_type": "code",
   "execution_count": 3,
   "metadata": {},
   "outputs": [],
   "source": [
    "d1 = d1.split()\n",
    "d2 = d2.split()"
   ]
  },
  {
   "cell_type": "code",
   "execution_count": 4,
   "metadata": {},
   "outputs": [],
   "source": [
    "query = \"insightful bird\"\n",
    "query = query.split()"
   ]
  },
  {
   "cell_type": "code",
   "execution_count": 5,
   "metadata": {},
   "outputs": [],
   "source": [
    "document_set = [d1, d2, query]"
   ]
  },
  {
   "cell_type": "code",
   "execution_count": 6,
   "metadata": {},
   "outputs": [],
   "source": [
    "vocab = np.array(['a', 'am', 'and', 'answer', 'are', 'bird', 'but', 'cat', 'cautious', 'explain', 'fox', 'friendly', 'help', 'i', 'insightful', 'is', 'may', 'robot', 'strong', 'the', 'they', 'when', 'will', 'wise', 'you'])"
   ]
  },
  {
   "cell_type": "code",
   "execution_count": 7,
   "metadata": {},
   "outputs": [],
   "source": [
    "#TFIDF-Vector-Calculation:"
   ]
  },
  {
   "cell_type": "code",
   "execution_count": 8,
   "metadata": {},
   "outputs": [],
   "source": [
    "n_docs = 3\n",
    "n_vocab = 25\n",
    "# Matrix of term frequencies\n",
    "tfmatrix = scipy.sparse.lil_matrix((n_docs,n_vocab))\n",
    "# Row vector of document frequencies\n",
    "dfvector = scipy.sparse.lil_matrix((1,n_vocab))"
   ]
  },
  {
   "cell_type": "code",
   "execution_count": 9,
   "metadata": {},
   "outputs": [],
   "source": [
    "# Loop over documents\n",
    "for k in range(n_docs):\n",
    "    # Row vector of which words occurred in this document\n",
    "    temp_dfvector = scipy.sparse.lil_matrix((1,n_vocab))\n",
    "    current_document = document_set[k]\n",
    "    for l in range(len(current_document)):\n",
    "       # Add current word to term-frequency count and document-count\n",
    "        currentword = current_document[l]\n",
    "        currentword_index = np.where(vocab == currentword)\n",
    "        tfmatrix[k,currentword_index]=tfmatrix[k,currentword_index[0][0]] + 1\n",
    "        temp_dfvector[0,currentword_index] = 1\n",
    "    # Add which words occurred in this document to overall document counts\n",
    "    dfvector = dfvector + temp_dfvector\n",
    "    \n",
    "        "
   ]
  },
  {
   "cell_type": "code",
   "execution_count": 10,
   "metadata": {},
   "outputs": [],
   "source": [
    "dfvector_array = dfvector.toarray()"
   ]
  },
  {
   "cell_type": "code",
   "execution_count": 11,
   "metadata": {},
   "outputs": [],
   "source": [
    "#Calculating smoothed logarithmic idf\n",
    "idfvector = 1 + np.log(((1 + dfvector_array)**-1)*n_docs)"
   ]
  },
  {
   "cell_type": "code",
   "execution_count": 12,
   "metadata": {},
   "outputs": [],
   "source": [
    "# Use the count statistics to compute the tf-idf matrix\n",
    "tfidfmatrix = np.zeros((n_docs, n_vocab))"
   ]
  },
  {
   "cell_type": "code",
   "execution_count": 13,
   "metadata": {},
   "outputs": [],
   "source": [
    "tfmatrix = tfmatrix.toarray()"
   ]
  },
  {
   "cell_type": "code",
   "execution_count": 14,
   "metadata": {},
   "outputs": [],
   "source": [
    "for k in range(n_docs):\n",
    "    # Combine the tf and idf terms\n",
    "    tfidfmatrix[k,:] = tfmatrix[k,:] * idfvector[0]"
   ]
  },
  {
   "cell_type": "code",
   "execution_count": 18,
   "metadata": {},
   "outputs": [],
   "source": [
    "# Cosine similarity with document d1:\n",
    "similarity1 = (np.sum(tfidfmatrix[2, :] * tfidfmatrix[0, :])) / (np.sum(np.square(tfidfmatrix[2, :])) *  np.sum(np.square(tfidfmatrix[0, :])))"
   ]
  },
  {
   "cell_type": "code",
   "execution_count": 19,
   "metadata": {},
   "outputs": [],
   "source": [
    "# Cosine similarity with document d2:\n",
    "similarity2 = (np.sum(tfidfmatrix[2, :] * tfidfmatrix[1, :])) / (np.sum(np.square(tfidfmatrix[2, :])) *  np.sum(np.square(tfidfmatrix[1, :])))"
   ]
  },
  {
   "cell_type": "code",
   "execution_count": 20,
   "metadata": {},
   "outputs": [
    {
     "data": {
      "text/plain": [
       "0.025628409147009874"
      ]
     },
     "execution_count": 20,
     "metadata": {},
     "output_type": "execute_result"
    }
   ],
   "source": [
    "similarity1"
   ]
  },
  {
   "cell_type": "code",
   "execution_count": 21,
   "metadata": {},
   "outputs": [
    {
     "data": {
      "text/plain": [
       "0.33169765922287625"
      ]
     },
     "execution_count": 21,
     "metadata": {},
     "output_type": "execute_result"
    }
   ],
   "source": [
    "similarity2"
   ]
  },
  {
   "cell_type": "markdown",
   "metadata": {},
   "source": [
    "### According to cosine similarity document 2 is much closer to query text."
   ]
  }
 ],
 "metadata": {
  "kernelspec": {
   "display_name": "Python 3 (ipykernel)",
   "language": "python",
   "name": "python3"
  },
  "language_info": {
   "codemirror_mode": {
    "name": "ipython",
    "version": 3
   },
   "file_extension": ".py",
   "mimetype": "text/x-python",
   "name": "python",
   "nbconvert_exporter": "python",
   "pygments_lexer": "ipython3",
   "version": "3.8.3"
  }
 },
 "nbformat": 4,
 "nbformat_minor": 4
}
